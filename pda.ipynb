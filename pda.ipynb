{
 "cells": [
  {
   "cell_type": "code",
   "execution_count": 1,
   "id": "1bd3aa56-b01f-455f-acc6-e3b4ad2c31b7",
   "metadata": {},
   "outputs": [
    {
     "name": "stdin",
     "output_type": "stream",
     "text": [
      "Enter an arithmetic expression to evaluate:  8*9+7\n"
     ]
    },
    {
     "name": "stdout",
     "output_type": "stream",
     "text": [
      "The result of '8*9+7' is: 79\n"
     ]
    }
   ],
   "source": [
    "def precedence(op):\n",
    "    \"\"\"Returns the precedence of an operator.\"\"\"\n",
    "    if op in ('+', '-'):\n",
    "        return 1\n",
    "    if op in ('*', '/'):\n",
    "        return 2\n",
    "    return 0\n",
    "\n",
    "def apply_operator(operators, values):\n",
    "    \"\"\"Applies an operator to the top two values on the stack.\"\"\"\n",
    "    operator = operators.pop()\n",
    "    right = values.pop()\n",
    "    left = values.pop()\n",
    "    if operator == '+':\n",
    "        values.append(left + right)\n",
    "    elif operator == '-':\n",
    "        values.append(left - right)\n",
    "    elif operator == '*':\n",
    "        values.append(left * right)\n",
    "    elif operator == '/':\n",
    "        values.append(left / right)\n",
    "\n",
    "def evaluate_expression(expression):\n",
    "    \"\"\"Evaluates an arithmetic expression using a PDA-like approach.\"\"\"\n",
    "    operators = []  # Stack for operators\n",
    "    values = []     # Stack for values\n",
    "    i = 0\n",
    "\n",
    "    while i < len(expression):\n",
    "        char = expression[i]\n",
    "\n",
    "        if char.isdigit():\n",
    "            # Parse and push numbers\n",
    "            num = 0\n",
    "            while i < len(expression) and expression[i].isdigit():\n",
    "                num = num * 10 + int(expression[i])\n",
    "                i += 1\n",
    "            values.append(num)\n",
    "            i -= 1\n",
    "        elif char == '(':\n",
    "            operators.append(char)\n",
    "        elif char == ')':\n",
    "            # Resolve parentheses\n",
    "            while operators and operators[-1] != '(':\n",
    "                apply_operator(operators, values)\n",
    "            operators.pop()  # Pop '('\n",
    "        elif char in '+-*/':\n",
    "            # Process operators based on precedence\n",
    "            while (operators and operators[-1] != '(' and\n",
    "                   precedence(operators[-1]) >= precedence(char)):\n",
    "                apply_operator(operators, values)\n",
    "            operators.append(char)\n",
    "        i += 1\n",
    "\n",
    "    # Apply remaining operators\n",
    "    while operators:\n",
    "        apply_operator(operators, values)\n",
    "\n",
    "    return values[0]\n",
    "\n",
    "# Input from the user\n",
    "expression = input(\"Enter an arithmetic expression to evaluate: \")\n",
    "result = evaluate_expression(expression)\n",
    "print(f\"The result of '{expression}' is: {result}\")\n"
   ]
  },
  {
   "cell_type": "code",
   "execution_count": null,
   "id": "928637ef-df74-4574-a290-f3a4fe264bce",
   "metadata": {},
   "outputs": [],
   "source": []
  }
 ],
 "metadata": {
  "kernelspec": {
   "display_name": "Python 3 (ipykernel)",
   "language": "python",
   "name": "python3"
  },
  "language_info": {
   "codemirror_mode": {
    "name": "ipython",
    "version": 3
   },
   "file_extension": ".py",
   "mimetype": "text/x-python",
   "name": "python",
   "nbconvert_exporter": "python",
   "pygments_lexer": "ipython3",
   "version": "3.12.7"
  }
 },
 "nbformat": 4,
 "nbformat_minor": 5
}
